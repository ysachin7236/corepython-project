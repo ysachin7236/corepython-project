{
 "cells": [
  {
   "cell_type": "code",
   "execution_count": null,
   "id": "fcb13f97-1eae-4d07-a09d-f07f690f790e",
   "metadata": {},
   "outputs": [],
   "source": [
    "#Features:\n",
    "#Add students with details like name, roll number, and assigned subjects.\n",
    "#Add teachers with details like name and subjects they teach.\n",
    "#Display all students.\n",
    "#Display all teachers.\n",
    "#Search for a student or teacher by name.\n"
   ]
  },
  {
   "cell_type": "code",
   "execution_count": 1,
   "id": "1ff7083f-a03e-466a-8837-b50a6e1aaf20",
   "metadata": {},
   "outputs": [],
   "source": [
    "class Student:\n",
    "    def __init__(self, name, roll_no, subjects):\n",
    "        self.name = name\n",
    "        self.roll_no = roll_no\n",
    "        self.subjects = subjects\n",
    "\n",
    "    def __str__(self):\n",
    "        subjects_str = \", \".join(self.subjects)\n",
    "        return f\"Student Name: {self.name}, Roll No: {self.roll_no}, Subjects: {subjects_str}\"\n",
    "\n",
    "\n"
   ]
  },
  {
   "cell_type": "code",
   "execution_count": 3,
   "id": "64cc8593-48d9-46b3-94cb-7365df36ca08",
   "metadata": {},
   "outputs": [],
   "source": [
    "class Teacher:\n",
    "    def __init__(self, name, subjects):\n",
    "        self.name = name\n",
    "        self.subjects = subjects\n",
    "\n",
    "    def __str__(self):\n",
    "        subjects_str = \", \".join(self.subjects)\n",
    "        return f\"Teacher Name: {self.name}, Subjects: {subjects_str}\"\n",
    "\n",
    "\n"
   ]
  },
  {
   "cell_type": "code",
   "execution_count": 5,
   "id": "4fba67eb-807c-4413-a669-742202553c95",
   "metadata": {},
   "outputs": [],
   "source": [
    "class Portal:\n",
    "    def __init__(self):\n",
    "        self.students = []\n",
    "        self.teachers = []\n",
    "\n",
    "    def add_student(self):\n",
    "        name = input(\"Enter student name: \").strip()\n",
    "        roll_no = input(\"Enter roll number: \").strip()\n",
    "        subjects = input(\"Enter subjects (comma-separated): \").strip().split(\",\")\n",
    "        subjects = [subject.strip() for subject in subjects]\n",
    "\n",
    "        student = Student(name, roll_no, subjects)\n",
    "        self.students.append(student)\n",
    "        print(\"\\nStudent added successfully!\\n\")\n",
    "\n",
    "    def add_teacher(self):\n",
    "        name = input(\"Enter teacher name: \").strip()\n",
    "        subjects = input(\"Enter subjects (comma-separated): \").strip().split(\",\")\n",
    "        subjects = [subject.strip() for subject in subjects]\n",
    "\n",
    "        teacher = Teacher(name, subjects)\n",
    "        self.teachers.append(teacher)\n",
    "        print(\"\\nTeacher added successfully!\\n\")\n",
    "\n",
    "    def display_students(self):\n",
    "        if not self.students:\n",
    "            print(\"\\nNo students available.\\n\")\n",
    "            return\n",
    "\n",
    "        print(\"\\nList of Students:\\n\")\n",
    "        for student in self.students:\n",
    "            print(student)\n",
    "        print()\n",
    "\n",
    "    def display_teachers(self):\n",
    "        if not self.teachers:\n",
    "            print(\"\\nNo teachers available.\\n\")\n",
    "            return\n",
    "\n",
    "        print(\"\\nList of Teachers:\\n\")\n",
    "        for teacher in self.teachers:\n",
    "            print(teacher)\n",
    "        print()\n",
    "\n",
    "    def search_student(self):\n",
    "        name = input(\"Enter student name to search: \").strip()\n",
    "        found = [student for student in self.students if student.name.lower() == name.lower()]\n",
    "\n",
    "        if not found:\n",
    "            print(f\"\\nNo student found with name '{name}'.\\n\")\n",
    "        else:\n",
    "            print(\"\\nSearch Results:\\n\")\n",
    "            for student in found:\n",
    "                print(student)\n",
    "        print()\n",
    "\n",
    "    def search_teacher(self):\n",
    "        name = input(\"Enter teacher name to search: \").strip()\n",
    "        found = [teacher for teacher in self.teachers if teacher.name.lower() == name.lower()]\n",
    "\n",
    "        if not found:\n",
    "            print(f\"\\nNo teacher found with name '{name}'.\\n\")\n",
    "        else:\n",
    "            print(\"\\nSearch Results:\\n\")\n",
    "            for teacher in found:\n",
    "                print(teacher)\n",
    "        print()\n",
    "\n",
    "    def run(self):\n",
    "        while True:\n",
    "            print(\"Student-Teacher Portal\")\n",
    "            print(\"1. Add Student\")\n",
    "            print(\"2. Add Teacher\")\n",
    "            print(\"3. Display All Students\")\n",
    "            print(\"4. Display All Teachers\")\n",
    "            print(\"5. Search for a Student\")\n",
    "            print(\"6. Search for a Teacher\")\n",
    "            print(\"7. Exit\")\n",
    "\n",
    "            choice = input(\"Enter your choice (1-7): \").strip()\n",
    "\n",
    "            if choice == \"1\":\n",
    "                self.add_student()\n",
    "            elif choice == \"2\":\n",
    "                self.add_teacher()\n",
    "            elif choice == \"3\":\n",
    "                self.display_students()\n",
    "            elif choice == \"4\":\n",
    "                self.display_teachers()\n",
    "            elif choice == \"5\":\n",
    "                self.search_student()\n",
    "            elif choice == \"6\":\n",
    "                self.search_teacher()\n",
    "            elif choice == \"7\":\n",
    "                print(\"\\nGoodbye!\")\n",
    "                break\n",
    "            else:\n",
    "                print(\"\\nInvalid choice. Please try again.\\n\")\n",
    "\n",
    "\n"
   ]
  },
  {
   "cell_type": "code",
   "execution_count": null,
   "id": "81daf9b4-3b2f-4c40-a789-89a0f039fc5d",
   "metadata": {},
   "outputs": [
    {
     "name": "stdout",
     "output_type": "stream",
     "text": [
      "Student-Teacher Portal\n",
      "1. Add Student\n",
      "2. Add Teacher\n",
      "3. Display All Students\n",
      "4. Display All Teachers\n",
      "5. Search for a Student\n",
      "6. Search for a Teacher\n",
      "7. Exit\n"
     ]
    },
    {
     "name": "stdin",
     "output_type": "stream",
     "text": [
      "Enter your choice (1-7):  1\n",
      "Enter student name:  sachin yadav\n",
      "Enter roll number:  2345\n",
      "Enter subjects (comma-separated):  math,hindi,english\n"
     ]
    },
    {
     "name": "stdout",
     "output_type": "stream",
     "text": [
      "\n",
      "Student added successfully!\n",
      "\n",
      "Student-Teacher Portal\n",
      "1. Add Student\n",
      "2. Add Teacher\n",
      "3. Display All Students\n",
      "4. Display All Teachers\n",
      "5. Search for a Student\n",
      "6. Search for a Teacher\n",
      "7. Exit\n"
     ]
    },
    {
     "name": "stdin",
     "output_type": "stream",
     "text": [
      "Enter your choice (1-7):  3\n"
     ]
    },
    {
     "name": "stdout",
     "output_type": "stream",
     "text": [
      "\n",
      "List of Students:\n",
      "\n",
      "Student Name: sachin yadav, Roll No: 2345, Subjects: math, hindi, english\n",
      "\n",
      "Student-Teacher Portal\n",
      "1. Add Student\n",
      "2. Add Teacher\n",
      "3. Display All Students\n",
      "4. Display All Teachers\n",
      "5. Search for a Student\n",
      "6. Search for a Teacher\n",
      "7. Exit\n"
     ]
    }
   ],
   "source": [
    "if __name__ == \"__main__\":\n",
    "    portal = Portal()\n",
    "    portal.run()\n"
   ]
  },
  {
   "cell_type": "code",
   "execution_count": null,
   "id": "b12e6c7d-48ac-4aae-8701-93769b1b0405",
   "metadata": {},
   "outputs": [],
   "source": []
  },
  {
   "cell_type": "code",
   "execution_count": null,
   "id": "88702dc4-670c-4353-a903-741d61eefd03",
   "metadata": {},
   "outputs": [],
   "source": []
  },
  {
   "cell_type": "code",
   "execution_count": null,
   "id": "1fc8ccaa-76d8-47ea-805e-9d93a47e132f",
   "metadata": {},
   "outputs": [],
   "source": []
  },
  {
   "cell_type": "code",
   "execution_count": null,
   "id": "5c200bf8-22a6-4ed7-a9fd-4703e69600da",
   "metadata": {},
   "outputs": [],
   "source": []
  },
  {
   "cell_type": "code",
   "execution_count": null,
   "id": "973d875e-25b8-497e-bd87-a52a1e5a9dab",
   "metadata": {},
   "outputs": [],
   "source": []
  }
 ],
 "metadata": {
  "kernelspec": {
   "display_name": "Python 3 (ipykernel)",
   "language": "python",
   "name": "python3"
  },
  "language_info": {
   "codemirror_mode": {
    "name": "ipython",
    "version": 3
   },
   "file_extension": ".py",
   "mimetype": "text/x-python",
   "name": "python",
   "nbconvert_exporter": "python",
   "pygments_lexer": "ipython3",
   "version": "3.12.4"
  }
 },
 "nbformat": 4,
 "nbformat_minor": 5
}
